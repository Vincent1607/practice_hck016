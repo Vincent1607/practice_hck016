{
 "cells": [
  {
   "cell_type": "code",
   "execution_count": 10,
   "metadata": {},
   "outputs": [],
   "source": [
    "def numbers_of_word(sentence):\n",
    "    words = sentence.split()\n",
    "    jumlah_kata = len(words)\n",
    "    return jumlah_kata"
   ]
  },
  {
   "cell_type": "code",
   "execution_count": 11,
   "metadata": {},
   "outputs": [
    {
     "ename": "NameError",
     "evalue": "name 'number_of_words' is not defined",
     "output_type": "error",
     "traceback": [
      "\u001b[1;31m---------------------------------------------------------------------------\u001b[0m",
      "\u001b[1;31mNameError\u001b[0m                                 Traceback (most recent call last)",
      "Cell \u001b[1;32mIn[11], line 1\u001b[0m\n\u001b[1;32m----> 1\u001b[0m \u001b[43mnumber_of_words\u001b[49m(\u001b[38;5;124m'\u001b[39m\u001b[38;5;124msaya lapar sekali\u001b[39m\u001b[38;5;124m'\u001b[39m)\n",
      "\u001b[1;31mNameError\u001b[0m: name 'number_of_words' is not defined"
     ]
    }
   ],
   "source": [
    "number_of_words('saya lapar sekali')"
   ]
  },
  {
   "cell_type": "code",
   "execution_count": 5,
   "metadata": {},
   "outputs": [
    {
     "name": "stdout",
     "output_type": "stream",
     "text": [
      "[5, 10, 15, 20]\n",
      "[10, 20, 30, 40, 50]\n"
     ]
    }
   ],
   "source": [
    "def find_multiples(start_range, end_range, multiple):\n",
    "    result = []    \n",
    "\n",
    "    for i in range(start_range, end_range + 1):\n",
    "        if i % multiple == 0:\n",
    "            result.append(i)\n",
    "    return result\n",
    "\n",
    "print(find_multiples(start_range= 1, end_range= 20, multiple= 5))\n",
    "print(find_multiples(start_range= 1, end_range= 50, multiple= 10))"
   ]
  },
  {
   "cell_type": "code",
   "execution_count": 9,
   "metadata": {},
   "outputs": [],
   "source": [
    "def find_multiple(start_range, end_range, multiplier):\n",
    "    res = []\n",
    "    res.append(start_range)\n",
    "    for x in range(1, end_range):\n",
    "        if x * multiplier <= start_range :\n",
    "            pass\n",
    "        elif x * multiplier > end_range:\n",
    "            break\n",
    "        else:\n",
    "            res.append(x * multiplier)\n",
    "    \n",
    "    return res\n",
    "    "
   ]
  },
  {
   "cell_type": "code",
   "execution_count": 22,
   "metadata": {},
   "outputs": [],
   "source": [
    "def cari_genap(list_angka):\n",
    "    # tempat penyimpanan\n",
    "    angka_genap = []\n",
    "\n",
    "    # lihat angkanya satu-satu\n",
    "    for angka in list_angka:\n",
    "\n",
    "        # cek apakah habis dibagi 2\n",
    "        if angka % 2 == 0 :\n",
    "            angka_genap.append(angka)\n",
    "\n",
    "    return angka_genap"
   ]
  },
  {
   "cell_type": "code",
   "execution_count": 23,
   "metadata": {},
   "outputs": [
    {
     "data": {
      "text/plain": [
       "[6, 8, 10]"
      ]
     },
     "execution_count": 23,
     "metadata": {},
     "output_type": "execute_result"
    }
   ],
   "source": [
    "cari_genap([1, 6, 3, 8, 10])"
   ]
  },
  {
   "cell_type": "code",
   "execution_count": 24,
   "metadata": {},
   "outputs": [],
   "source": [
    "def cari_vokal(kalimat):\n",
    "    # jumlah huruf vokal\n",
    "    jumlah = 0 \n",
    "\n",
    "    # liat perhuruf\n",
    "    for huruf in kalimat:\n",
    "\n",
    "        # cek itu vokal atau bukan\n",
    "        if huruf in 'aiueo':\n",
    "\n",
    "            # jumlahkan ke jumlah\n",
    "            jumlah += 1\n",
    "\n",
    "    return jumlah"
   ]
  },
  {
   "cell_type": "code",
   "execution_count": 25,
   "metadata": {},
   "outputs": [
    {
     "data": {
      "text/plain": [
       "6"
      ]
     },
     "execution_count": 25,
     "metadata": {},
     "output_type": "execute_result"
    }
   ],
   "source": [
    "cari_vokal(\"saya lapar banget\")"
   ]
  },
  {
   "cell_type": "code",
   "execution_count": 26,
   "metadata": {},
   "outputs": [],
   "source": [
    "def mari_hitung(list_angka):\n",
    "    # buat var hasil perhitung\n",
    "    total = 0\n",
    "\n",
    "    # jumlahkan satu-satu\n",
    "    for angka in list_angka :\n",
    "        total += angka # total = total + angka\n",
    "\n",
    "    return total"
   ]
  },
  {
   "cell_type": "code",
   "execution_count": 29,
   "metadata": {},
   "outputs": [
    {
     "data": {
      "text/plain": [
       "30"
      ]
     },
     "execution_count": 29,
     "metadata": {},
     "output_type": "execute_result"
    }
   ],
   "source": [
    "mari_hitung([10, 5, 7, 5, 3])"
   ]
  },
  {
   "cell_type": "code",
   "execution_count": 33,
   "metadata": {},
   "outputs": [],
   "source": [
    "def rasi_bintang(jumlah_baris):\n",
    "    # melakukan pengulangan sejumlah baris\n",
    "    for baris in range(1, jumlah_baris+1):\n",
    "        print('* ' * baris)"
   ]
  },
  {
   "cell_type": "code",
   "execution_count": 37,
   "metadata": {},
   "outputs": [
    {
     "ename": "NameError",
     "evalue": "name 'baris' is not defined",
     "output_type": "error",
     "traceback": [
      "\u001b[1;31m---------------------------------------------------------------------------\u001b[0m",
      "\u001b[1;31mNameError\u001b[0m                                 Traceback (most recent call last)",
      "Cell \u001b[1;32mIn[37], line 1\u001b[0m\n\u001b[1;32m----> 1\u001b[0m rasi_bintang(\u001b[43mbaris\u001b[49m)\n",
      "\u001b[1;31mNameError\u001b[0m: name 'baris' is not defined"
     ]
    }
   ],
   "source": [
    "rasi_bintang(baris)"
   ]
  },
  {
   "cell_type": "code",
   "execution_count": null,
   "metadata": {},
   "outputs": [],
   "source": []
  },
  {
   "cell_type": "code",
   "execution_count": 38,
   "metadata": {},
   "outputs": [],
   "source": [
    "def rasi_bintang(n):\n",
    "    # jika n lebih dari 0 maka akan mengulang fungsi dengan mengurangi 1 dari n\n",
    "    if n > 0:\n",
    "        rasi_bintang(n - 1)\n",
    "        # yang di print adalah * yang di kalikan dengan nilai n \n",
    "        print(\"*\" * n)"
   ]
  },
  {
   "cell_type": "code",
   "execution_count": 42,
   "metadata": {},
   "outputs": [],
   "source": [
    "baris = 5"
   ]
  },
  {
   "cell_type": "code",
   "execution_count": 43,
   "metadata": {},
   "outputs": [
    {
     "name": "stdout",
     "output_type": "stream",
     "text": [
      "*\n",
      "**\n",
      "***\n",
      "****\n",
      "*****\n"
     ]
    }
   ],
   "source": [
    "rasi_bintang(baris)\n"
   ]
  },
  {
   "cell_type": "code",
   "execution_count": 2,
   "metadata": {},
   "outputs": [
    {
     "name": "stdout",
     "output_type": "stream",
     "text": [
      "1\n",
      "2\n",
      "3\n"
     ]
    },
    {
     "ename": "ValueError",
     "evalue": "invalid literal for int() with base 10: 'four'",
     "output_type": "error",
     "traceback": [
      "\u001b[1;31m---------------------------------------------------------------------------\u001b[0m",
      "\u001b[1;31mValueError\u001b[0m                                Traceback (most recent call last)",
      "Cell \u001b[1;32mIn[2], line 2\u001b[0m\n\u001b[0;32m      1\u001b[0m \u001b[38;5;28;01mfor\u001b[39;00m i \u001b[38;5;129;01min\u001b[39;00m [\u001b[38;5;241m1\u001b[39m,\u001b[38;5;241m2\u001b[39m,\u001b[38;5;241m3\u001b[39m,\u001b[38;5;124m'\u001b[39m\u001b[38;5;124mfour\u001b[39m\u001b[38;5;124m'\u001b[39m,\u001b[38;5;124m'\u001b[39m\u001b[38;5;124m5\u001b[39m\u001b[38;5;124m'\u001b[39m]:\n\u001b[1;32m----> 2\u001b[0m     \u001b[38;5;28mprint\u001b[39m(\u001b[38;5;28;43mint\u001b[39;49m\u001b[43m(\u001b[49m\u001b[43mi\u001b[49m\u001b[43m)\u001b[49m)\n",
      "\u001b[1;31mValueError\u001b[0m: invalid literal for int() with base 10: 'four'"
     ]
    }
   ],
   "source": [
    "for i in [1,2,3,'four','5']:\n",
    "    print(int(i))"
   ]
  },
  {
   "cell_type": "code",
   "execution_count": 3,
   "metadata": {},
   "outputs": [
    {
     "name": "stdout",
     "output_type": "stream",
     "text": [
      "1\n",
      "2\n",
      "3\n",
      "5\n"
     ]
    }
   ],
   "source": [
    "for i in [1,2,3,'four','5']:\n",
    "    try:\n",
    "        print(int(i))\n",
    "    except:\n",
    "        pass"
   ]
  },
  {
   "cell_type": "code",
   "execution_count": 5,
   "metadata": {},
   "outputs": [
    {
     "name": "stdout",
     "output_type": "stream",
     "text": [
      "1\n",
      "2\n",
      "3\n",
      "ada error\n",
      "5\n"
     ]
    }
   ],
   "source": [
    "for i in [1,2,3,'four','5']:\n",
    "    try:\n",
    "        print(int(i))\n",
    "    except:\n",
    "        print('ada error')"
   ]
  },
  {
   "cell_type": "code",
   "execution_count": null,
   "metadata": {},
   "outputs": [],
   "source": [
    "var = int(input('masukan bilangan bulat'))\n",
    "if var % 2 == 1:\n",
    "    print"
   ]
  },
  {
   "cell_type": "code",
   "execution_count": 7,
   "metadata": {},
   "outputs": [
    {
     "name": "stdout",
     "output_type": "stream",
     "text": [
      "1\n",
      "aman\n",
      "done\n",
      "3\n",
      "aman\n",
      "done\n",
      "input tidak bisa diubah ke integer\n",
      "done\n",
      "input tidak bisa diubah ke integer\n",
      "done\n"
     ]
    }
   ],
   "source": [
    "for x in ['1', '3', 'lima', '3.5']:\n",
    "    try:\n",
    "        print(int(x))\n",
    "    except:\n",
    "        print(f\"input tidak bisa diubah ke integer\")\n",
    "    else:\n",
    "        print('aman')\n",
    "    finally:\n",
    "        print('done')"
   ]
  },
  {
   "cell_type": "code",
   "execution_count": 9,
   "metadata": {},
   "outputs": [
    {
     "name": "stdout",
     "output_type": "stream",
     "text": [
      "1\n",
      "done\n",
      "3\n",
      "done\n",
      "done\n",
      "3\n",
      "done\n",
      "5\n",
      "done\n"
     ]
    }
   ],
   "source": [
    "for x in ['1', '3', 'lima', 3.5, \"5\"]:\n",
    "    try:\n",
    "        print(int(x))\n",
    "    except:\n",
    "        continue\n",
    "    finally:\n",
    "        print('done')"
   ]
  },
  {
   "cell_type": "code",
   "execution_count": 16,
   "metadata": {},
   "outputs": [
    {
     "name": "stdout",
     "output_type": "stream",
     "text": [
      "cek lagi ya inputnya\n"
     ]
    }
   ],
   "source": [
    "try:\n",
    "    userInput = input(\"silahkan pilih 1 sampai 5: \")\n",
    "    userInput = int(userInput)\n",
    "    if userInputNumber < 1 or userInputNumber > 5:\n",
    "        raise Exception(\"input salah\")\n",
    "except ValueError:\n",
    "    print(\"ada error\")\n",
    "except Exception:\n",
    "    print(\"cek lagi ya inputnya\")"
   ]
  },
  {
   "cell_type": "code",
   "execution_count": 20,
   "metadata": {},
   "outputs": [
    {
     "ename": "Exception",
     "evalue": "erorr",
     "output_type": "error",
     "traceback": [
      "\u001b[1;31m---------------------------------------------------------------------------\u001b[0m",
      "\u001b[1;31mException\u001b[0m                                 Traceback (most recent call last)",
      "Cell \u001b[1;32mIn[20], line 5\u001b[0m\n\u001b[0;32m      3\u001b[0m     userInputNumber \u001b[38;5;241m=\u001b[39m \u001b[38;5;28mint\u001b[39m(userInput)\n\u001b[0;32m      4\u001b[0m     \u001b[38;5;28;01mif\u001b[39;00m userInputNumber \u001b[38;5;241m<\u001b[39m \u001b[38;5;241m1\u001b[39m \u001b[38;5;129;01mor\u001b[39;00m userInputNumber \u001b[38;5;241m>\u001b[39m \u001b[38;5;241m5\u001b[39m:\n\u001b[1;32m----> 5\u001b[0m         \u001b[38;5;28;01mraise\u001b[39;00m \u001b[38;5;167;01mException\u001b[39;00m(\u001b[38;5;124m\"\u001b[39m\u001b[38;5;124merorr\u001b[39m\u001b[38;5;124m\"\u001b[39m)\n\u001b[0;32m      6\u001b[0m \u001b[38;5;28;01mexcept\u001b[39;00m \u001b[38;5;167;01mValueError\u001b[39;00m:\n\u001b[0;32m      7\u001b[0m     \u001b[38;5;28mprint\u001b[39m(\u001b[38;5;124m\"\u001b[39m\u001b[38;5;124mada error\u001b[39m\u001b[38;5;124m\"\u001b[39m)\n",
      "\u001b[1;31mException\u001b[0m: erorr"
     ]
    }
   ],
   "source": [
    "try:\n",
    "    userInput = input(\"silahkan pilih 1 sampai 5: \")\n",
    "    userInputNumber = int(userInput)\n",
    "    if userInputNumber < 1 or userInputNumber > 5:\n",
    "        raise Exception(\"erorr\")\n",
    "except ValueError:\n",
    "    print(\"ada error\")\n"
   ]
  },
  {
   "cell_type": "code",
   "execution_count": 2,
   "metadata": {},
   "outputs": [
    {
     "name": "stdout",
     "output_type": "stream",
     "text": [
      "Item Details:\n",
      "Product Name: Laptop, Stock Count: 100, Price: 500.0\n",
      "Product Name: Mobile, Stock Count: 110, Price: 450.0\n",
      "Product Name: Desktop, Stock Count: 120, Price: 500.0\n",
      "Product Name: Tablet, Stock Count: 90, Price: 550.0\n",
      "\n",
      "Update the price of item code - 'I001':\n",
      "Product Name: Laptop, Stock Count: 100, Price: 505.0\n",
      "\n",
      "Update the stock of item code - 'I003':\n",
      "Product Name: Desktop, Stock Count: 115, Price: 500.0\n"
     ]
    }
   ],
   "source": [
    "class Inventory:\n",
    "    def __init__(self):\n",
    "        self.inventory = {}\n",
    "    def add_item(self, item_id, item_name, stock_count, price):\n",
    "        self.inventory[item_id] = {\"item_name\": item_name, \"stock_count\": stock_count, \"price\": price}\n",
    "\n",
    "    def update_item(self, item_id, stock_count, price):\n",
    "        if item_id in self.inventory:\n",
    "            self.inventory[item_id][\"stock_count\"] = stock_count\n",
    "            self.inventory[item_id][\"price\"] = price\n",
    "        else:\n",
    "            print(\"Item not found in inventory.\")\n",
    "\n",
    "    def check_item_details(self, item_id):\n",
    "        if item_id in self.inventory:\n",
    "            item = self.inventory[item_id]\n",
    "            return f\"Product Name: {item['item_name']}, Stock Count: {item['stock_count']}, Price: {item['price']}\"\n",
    "        else:\n",
    "            return \"Item not found in inventory.\"\n",
    "\n",
    "inventory = Inventory()\n",
    "\n",
    "inventory.add_item(\"I001\", \"Laptop\", 100, 500.00)\n",
    "inventory.add_item(\"I002\", \"Mobile\", 110, 450.00)\n",
    "inventory.add_item(\"I003\", \"Desktop\", 120, 500.00)\n",
    "inventory.add_item(\"I004\", \"Tablet\", 90, 550.00)\n",
    "print(\"Item Details:\")\n",
    "print(inventory.check_item_details(\"I001\"))\n",
    "print(inventory.check_item_details(\"I002\"))\n",
    "print(inventory.check_item_details(\"I003\"))\n",
    "print(inventory.check_item_details(\"I004\"))\n",
    "print(\"\\nUpdate the price of item code - 'I001':\")\n",
    "inventory.update_item(\"I001\", 100, 505.00)\n",
    "print(inventory.check_item_details(\"I001\"))\n",
    "print(\"\\nUpdate the stock of item code - 'I003':\")\n",
    "inventory.update_item(\"I003\", 115, 500.00)\n",
    "print(inventory.check_item_details(\"I003\"))"
   ]
  }
 ],
 "metadata": {
  "kernelspec": {
   "display_name": "base",
   "language": "python",
   "name": "python3"
  },
  "language_info": {
   "codemirror_mode": {
    "name": "ipython",
    "version": 3
   },
   "file_extension": ".py",
   "mimetype": "text/x-python",
   "name": "python",
   "nbconvert_exporter": "python",
   "pygments_lexer": "ipython3",
   "version": "3.9.19"
  }
 },
 "nbformat": 4,
 "nbformat_minor": 2
}
