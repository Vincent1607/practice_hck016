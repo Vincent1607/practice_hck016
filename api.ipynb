{
 "cells": [
  {
   "cell_type": "code",
   "execution_count": 2,
   "metadata": {},
   "outputs": [],
   "source": [
    "#!pip install requests"
   ]
  },
  {
   "cell_type": "code",
   "execution_count": 3,
   "metadata": {},
   "outputs": [],
   "source": [
    "import requests"
   ]
  },
  {
   "cell_type": "code",
   "execution_count": 4,
   "metadata": {},
   "outputs": [],
   "source": [
    "response_gempa = requests.get(\"https://cuaca-gempa-rest-api.vercel.app\")"
   ]
  },
  {
   "cell_type": "code",
   "execution_count": 5,
   "metadata": {},
   "outputs": [
    {
     "data": {
      "text/plain": [
       "<Response [200]>"
      ]
     },
     "execution_count": 5,
     "metadata": {},
     "output_type": "execute_result"
    }
   ],
   "source": [
    "response_gempa"
   ]
  },
  {
   "cell_type": "code",
   "execution_count": 6,
   "metadata": {},
   "outputs": [
    {
     "data": {
      "text/plain": [
       "['__attrs__',\n",
       " '__bool__',\n",
       " '__class__',\n",
       " '__delattr__',\n",
       " '__dict__',\n",
       " '__dir__',\n",
       " '__doc__',\n",
       " '__enter__',\n",
       " '__eq__',\n",
       " '__exit__',\n",
       " '__format__',\n",
       " '__ge__',\n",
       " '__getattribute__',\n",
       " '__getstate__',\n",
       " '__gt__',\n",
       " '__hash__',\n",
       " '__init__',\n",
       " '__init_subclass__',\n",
       " '__iter__',\n",
       " '__le__',\n",
       " '__lt__',\n",
       " '__module__',\n",
       " '__ne__',\n",
       " '__new__',\n",
       " '__nonzero__',\n",
       " '__reduce__',\n",
       " '__reduce_ex__',\n",
       " '__repr__',\n",
       " '__setattr__',\n",
       " '__setstate__',\n",
       " '__sizeof__',\n",
       " '__str__',\n",
       " '__subclasshook__',\n",
       " '__weakref__',\n",
       " '_content',\n",
       " '_content_consumed',\n",
       " '_next',\n",
       " 'apparent_encoding',\n",
       " 'close',\n",
       " 'connection',\n",
       " 'content',\n",
       " 'cookies',\n",
       " 'elapsed',\n",
       " 'encoding',\n",
       " 'headers',\n",
       " 'history',\n",
       " 'is_permanent_redirect',\n",
       " 'is_redirect',\n",
       " 'iter_content',\n",
       " 'iter_lines',\n",
       " 'json',\n",
       " 'links',\n",
       " 'next',\n",
       " 'ok',\n",
       " 'raise_for_status',\n",
       " 'raw',\n",
       " 'reason',\n",
       " 'request',\n",
       " 'status_code',\n",
       " 'text',\n",
       " 'url']"
      ]
     },
     "execution_count": 6,
     "metadata": {},
     "output_type": "execute_result"
    }
   ],
   "source": [
    "dir(response_gempa)"
   ]
  },
  {
   "cell_type": "code",
   "execution_count": 7,
   "metadata": {},
   "outputs": [
    {
     "data": {
      "text/plain": [
       "200"
      ]
     },
     "execution_count": 7,
     "metadata": {},
     "output_type": "execute_result"
    }
   ],
   "source": [
    "response_gempa.status_code"
   ]
  },
  {
   "cell_type": "code",
   "execution_count": 8,
   "metadata": {},
   "outputs": [
    {
     "data": {
      "text/plain": [
       "{'maintainer': 'Renova Muhamad Reza',\n",
       " 'source': 'https://github.com/renomureza/cuaca-gempa-rest-api',\n",
       " 'endpoint': {'quake': 'https://cuaca-gempa-rest-api.vercel.app/quake',\n",
       "  'weather': {'province': {'example': 'https://cuaca-gempa-rest-api.vercel.app/weather/jawa-barat'},\n",
       "   'city': {'example': 'https://cuaca-gempa-rest-api.vercel.app/weather/jawa-barat/bandung'}}}}"
      ]
     },
     "execution_count": 8,
     "metadata": {},
     "output_type": "execute_result"
    }
   ],
   "source": [
    "response_gempa.json()"
   ]
  },
  {
   "cell_type": "code",
   "execution_count": 9,
   "metadata": {},
   "outputs": [],
   "source": [
    "url_quake = 'https://cuaca-gempa-rest-api.vercel.app/quake'\n",
    "response_quake = requests.get(url_quake)"
   ]
  },
  {
   "cell_type": "code",
   "execution_count": 10,
   "metadata": {},
   "outputs": [
    {
     "data": {
      "text/plain": [
       "{'success': True,\n",
       " 'message': None,\n",
       " 'data': {'tanggal': '30 Apr 2024',\n",
       "  'jam': '02:43:35 WIB',\n",
       "  'datetime': '2024-04-29T19:43:35+00:00',\n",
       "  'coordinates': '-2.57,140.61',\n",
       "  'lintang': '2.57 LS',\n",
       "  'bujur': '140.61 BT',\n",
       "  'magnitude': '3.5',\n",
       "  'kedalaman': '5 km',\n",
       "  'wilayah': 'Pusat gempa berada di darat 9 km Barat Daya Kota Jayapura',\n",
       "  'potensi': 'Gempa ini dirasakan untuk diteruskan pada masyarakat',\n",
       "  'dirasakan': 'III Jayapura',\n",
       "  'shakemap': 'https://data.bmkg.go.id/DataMKG/TEWS/20240430024335.mmi.jpg'}}"
      ]
     },
     "execution_count": 10,
     "metadata": {},
     "output_type": "execute_result"
    }
   ],
   "source": [
    "response_quake.json()"
   ]
  },
  {
   "cell_type": "code",
   "execution_count": 11,
   "metadata": {},
   "outputs": [],
   "source": [
    "import pandas as pd\n",
    "import json\n",
    "\n",
    "url_ikan = 'https://data.jabarprov.go.id/api-backend/bigdata/diskanlut/od_15086_angka_konsumsi_ikan_berdasarkan_tahun'\n",
    "response_ikan = requests.get(url_ikan)"
   ]
  },
  {
   "cell_type": "code",
   "execution_count": 12,
   "metadata": {},
   "outputs": [
    {
     "name": "stdout",
     "output_type": "stream",
     "text": [
      "200\n"
     ]
    }
   ],
   "source": [
    "print(response_ikan.status_code)"
   ]
  },
  {
   "cell_type": "code",
   "execution_count": 13,
   "metadata": {},
   "outputs": [],
   "source": [
    "json_ikan = response_ikan.json()"
   ]
  },
  {
   "cell_type": "code",
   "execution_count": 14,
   "metadata": {},
   "outputs": [
    {
     "data": {
      "text/plain": [
       "dict_keys(['message', 'error', 'data', 'metadata', 'meta', 'metadata_filter'])"
      ]
     },
     "execution_count": 14,
     "metadata": {},
     "output_type": "execute_result"
    }
   ],
   "source": [
    "json_ikan.keys()"
   ]
  },
  {
   "cell_type": "code",
   "execution_count": 15,
   "metadata": {},
   "outputs": [
    {
     "data": {
      "text/plain": [
       "[{'id': 1,\n",
       "  'kode_provinsi': 32,\n",
       "  'nama_provinsi': 'JAWA BARAT',\n",
       "  'target_konsumsi_ikan': 23.89,\n",
       "  'realisasi_konsumsi_ikan': 24.57,\n",
       "  'satuan': 'KILOGRAM PER KAPITA PER TAHUN',\n",
       "  'tahun': 2014},\n",
       " {'id': 2,\n",
       "  'kode_provinsi': 32,\n",
       "  'nama_provinsi': 'JAWA BARAT',\n",
       "  'target_konsumsi_ikan': 25.41,\n",
       "  'realisasi_konsumsi_ikan': 25.88,\n",
       "  'satuan': 'KILOGRAM PER KAPITA PER TAHUN',\n",
       "  'tahun': 2015},\n",
       " {'id': 3,\n",
       "  'kode_provinsi': 32,\n",
       "  'nama_provinsi': 'JAWA BARAT',\n",
       "  'target_konsumsi_ikan': 27.35,\n",
       "  'realisasi_konsumsi_ikan': 27.7,\n",
       "  'satuan': 'KILOGRAM PER KAPITA PER TAHUN',\n",
       "  'tahun': 2016},\n",
       " {'id': 4,\n",
       "  'kode_provinsi': 32,\n",
       "  'nama_provinsi': 'JAWA BARAT',\n",
       "  'target_konsumsi_ikan': 28.53,\n",
       "  'realisasi_konsumsi_ikan': 28.6,\n",
       "  'satuan': 'KILOGRAM PER KAPITA PER TAHUN',\n",
       "  'tahun': 2017},\n",
       " {'id': 5,\n",
       "  'kode_provinsi': 32,\n",
       "  'nama_provinsi': 'JAWA BARAT',\n",
       "  'target_konsumsi_ikan': 29.46,\n",
       "  'realisasi_konsumsi_ikan': 29.64,\n",
       "  'satuan': 'KILOGRAM PER KAPITA PER TAHUN',\n",
       "  'tahun': 2018},\n",
       " {'id': 6,\n",
       "  'kode_provinsi': 32,\n",
       "  'nama_provinsi': 'JAWA BARAT',\n",
       "  'target_konsumsi_ikan': 30.34,\n",
       "  'realisasi_konsumsi_ikan': 30.53,\n",
       "  'satuan': 'KILOGRAM PER KAPITA PER TAHUN',\n",
       "  'tahun': 2019},\n",
       " {'id': 7,\n",
       "  'kode_provinsi': 32,\n",
       "  'nama_provinsi': 'JAWA BARAT',\n",
       "  'target_konsumsi_ikan': 28.0,\n",
       "  'realisasi_konsumsi_ikan': 37.01,\n",
       "  'satuan': 'KILOGRAM PER KAPITA PER TAHUN',\n",
       "  'tahun': 2020},\n",
       " {'id': 8,\n",
       "  'kode_provinsi': 32,\n",
       "  'nama_provinsi': 'JAWA BARAT',\n",
       "  'target_konsumsi_ikan': 28.31,\n",
       "  'realisasi_konsumsi_ikan': 37.71,\n",
       "  'satuan': 'KILOGRAM PER KAPITA PER TAHUN',\n",
       "  'tahun': 2021}]"
      ]
     },
     "execution_count": 15,
     "metadata": {},
     "output_type": "execute_result"
    }
   ],
   "source": [
    "json_ikan['data']"
   ]
  },
  {
   "cell_type": "code",
   "execution_count": 16,
   "metadata": {},
   "outputs": [],
   "source": [
    "data_ikan = pd.json_normalize(json_ikan['data'])"
   ]
  },
  {
   "cell_type": "code",
   "execution_count": 17,
   "metadata": {},
   "outputs": [
    {
     "data": {
      "text/html": [
       "<div>\n",
       "<style scoped>\n",
       "    .dataframe tbody tr th:only-of-type {\n",
       "        vertical-align: middle;\n",
       "    }\n",
       "\n",
       "    .dataframe tbody tr th {\n",
       "        vertical-align: top;\n",
       "    }\n",
       "\n",
       "    .dataframe thead th {\n",
       "        text-align: right;\n",
       "    }\n",
       "</style>\n",
       "<table border=\"1\" class=\"dataframe\">\n",
       "  <thead>\n",
       "    <tr style=\"text-align: right;\">\n",
       "      <th></th>\n",
       "      <th>id</th>\n",
       "      <th>kode_provinsi</th>\n",
       "      <th>nama_provinsi</th>\n",
       "      <th>target_konsumsi_ikan</th>\n",
       "      <th>realisasi_konsumsi_ikan</th>\n",
       "      <th>satuan</th>\n",
       "      <th>tahun</th>\n",
       "    </tr>\n",
       "  </thead>\n",
       "  <tbody>\n",
       "    <tr>\n",
       "      <th>0</th>\n",
       "      <td>1</td>\n",
       "      <td>32</td>\n",
       "      <td>JAWA BARAT</td>\n",
       "      <td>23.89</td>\n",
       "      <td>24.57</td>\n",
       "      <td>KILOGRAM PER KAPITA PER TAHUN</td>\n",
       "      <td>2014</td>\n",
       "    </tr>\n",
       "    <tr>\n",
       "      <th>1</th>\n",
       "      <td>2</td>\n",
       "      <td>32</td>\n",
       "      <td>JAWA BARAT</td>\n",
       "      <td>25.41</td>\n",
       "      <td>25.88</td>\n",
       "      <td>KILOGRAM PER KAPITA PER TAHUN</td>\n",
       "      <td>2015</td>\n",
       "    </tr>\n",
       "    <tr>\n",
       "      <th>2</th>\n",
       "      <td>3</td>\n",
       "      <td>32</td>\n",
       "      <td>JAWA BARAT</td>\n",
       "      <td>27.35</td>\n",
       "      <td>27.70</td>\n",
       "      <td>KILOGRAM PER KAPITA PER TAHUN</td>\n",
       "      <td>2016</td>\n",
       "    </tr>\n",
       "    <tr>\n",
       "      <th>3</th>\n",
       "      <td>4</td>\n",
       "      <td>32</td>\n",
       "      <td>JAWA BARAT</td>\n",
       "      <td>28.53</td>\n",
       "      <td>28.60</td>\n",
       "      <td>KILOGRAM PER KAPITA PER TAHUN</td>\n",
       "      <td>2017</td>\n",
       "    </tr>\n",
       "    <tr>\n",
       "      <th>4</th>\n",
       "      <td>5</td>\n",
       "      <td>32</td>\n",
       "      <td>JAWA BARAT</td>\n",
       "      <td>29.46</td>\n",
       "      <td>29.64</td>\n",
       "      <td>KILOGRAM PER KAPITA PER TAHUN</td>\n",
       "      <td>2018</td>\n",
       "    </tr>\n",
       "    <tr>\n",
       "      <th>5</th>\n",
       "      <td>6</td>\n",
       "      <td>32</td>\n",
       "      <td>JAWA BARAT</td>\n",
       "      <td>30.34</td>\n",
       "      <td>30.53</td>\n",
       "      <td>KILOGRAM PER KAPITA PER TAHUN</td>\n",
       "      <td>2019</td>\n",
       "    </tr>\n",
       "    <tr>\n",
       "      <th>6</th>\n",
       "      <td>7</td>\n",
       "      <td>32</td>\n",
       "      <td>JAWA BARAT</td>\n",
       "      <td>28.00</td>\n",
       "      <td>37.01</td>\n",
       "      <td>KILOGRAM PER KAPITA PER TAHUN</td>\n",
       "      <td>2020</td>\n",
       "    </tr>\n",
       "    <tr>\n",
       "      <th>7</th>\n",
       "      <td>8</td>\n",
       "      <td>32</td>\n",
       "      <td>JAWA BARAT</td>\n",
       "      <td>28.31</td>\n",
       "      <td>37.71</td>\n",
       "      <td>KILOGRAM PER KAPITA PER TAHUN</td>\n",
       "      <td>2021</td>\n",
       "    </tr>\n",
       "  </tbody>\n",
       "</table>\n",
       "</div>"
      ],
      "text/plain": [
       "   id  kode_provinsi nama_provinsi  target_konsumsi_ikan  \\\n",
       "0   1             32    JAWA BARAT                 23.89   \n",
       "1   2             32    JAWA BARAT                 25.41   \n",
       "2   3             32    JAWA BARAT                 27.35   \n",
       "3   4             32    JAWA BARAT                 28.53   \n",
       "4   5             32    JAWA BARAT                 29.46   \n",
       "5   6             32    JAWA BARAT                 30.34   \n",
       "6   7             32    JAWA BARAT                 28.00   \n",
       "7   8             32    JAWA BARAT                 28.31   \n",
       "\n",
       "   realisasi_konsumsi_ikan                         satuan  tahun  \n",
       "0                    24.57  KILOGRAM PER KAPITA PER TAHUN   2014  \n",
       "1                    25.88  KILOGRAM PER KAPITA PER TAHUN   2015  \n",
       "2                    27.70  KILOGRAM PER KAPITA PER TAHUN   2016  \n",
       "3                    28.60  KILOGRAM PER KAPITA PER TAHUN   2017  \n",
       "4                    29.64  KILOGRAM PER KAPITA PER TAHUN   2018  \n",
       "5                    30.53  KILOGRAM PER KAPITA PER TAHUN   2019  \n",
       "6                    37.01  KILOGRAM PER KAPITA PER TAHUN   2020  \n",
       "7                    37.71  KILOGRAM PER KAPITA PER TAHUN   2021  "
      ]
     },
     "execution_count": 17,
     "metadata": {},
     "output_type": "execute_result"
    }
   ],
   "source": [
    "data_ikan"
   ]
  },
  {
   "cell_type": "markdown",
   "metadata": {},
   "source": [
    "#### test api"
   ]
  },
  {
   "cell_type": "code",
   "execution_count": 21,
   "metadata": {},
   "outputs": [],
   "source": [
    "url_hana = \"http://localhost:8000/items/2\""
   ]
  },
  {
   "cell_type": "code",
   "execution_count": 1,
   "metadata": {},
   "outputs": [
    {
     "ename": "NameError",
     "evalue": "name 'requests' is not defined",
     "output_type": "error",
     "traceback": [
      "\u001b[1;31m---------------------------------------------------------------------------\u001b[0m",
      "\u001b[1;31mNameError\u001b[0m                                 Traceback (most recent call last)",
      "Cell \u001b[1;32mIn[1], line 1\u001b[0m\n\u001b[1;32m----> 1\u001b[0m response_hana \u001b[38;5;241m=\u001b[39m \u001b[43mrequests\u001b[49m\u001b[38;5;241m.\u001b[39mput(url_hana, json\u001b[38;5;241m=\u001b[39m{\u001b[38;5;124m\"\u001b[39m\u001b[38;5;124mname\u001b[39m\u001b[38;5;124m\"\u001b[39m:\u001b[38;5;124m\"\u001b[39m\u001b[38;5;124mfahmi\u001b[39m\u001b[38;5;124m\"\u001b[39m, \u001b[38;5;124m\"\u001b[39m\u001b[38;5;124mage\u001b[39m\u001b[38;5;124m\"\u001b[39m:\u001b[38;5;241m13\u001b[39m})\n",
      "\u001b[1;31mNameError\u001b[0m: name 'requests' is not defined"
     ]
    }
   ],
   "source": [
    "response_hana = requests.put(url_hana, json={\"name\":\"fahmi\", \"age\":13})"
   ]
  },
  {
   "cell_type": "code",
   "execution_count": null,
   "metadata": {},
   "outputs": [
    {
     "name": "stdout",
     "output_type": "stream",
     "text": [
      "200\n"
     ]
    }
   ],
   "source": [
    "print(response_hana.status_code)"
   ]
  },
  {
   "cell_type": "code",
   "execution_count": null,
   "metadata": {},
   "outputs": [
    {
     "name": "stdout",
     "output_type": "stream",
     "text": [
      "{'message': 'Item with ID 2 has been updated successfully.'}\n"
     ]
    }
   ],
   "source": [
    "print(response_hana.json())"
   ]
  },
  {
   "cell_type": "code",
   "execution_count": null,
   "metadata": {},
   "outputs": [],
   "source": [
    "url = \"http://localhost:8000/input_data/\"\n",
    "\n",
    "response = requests.post(url, json={\"id\":1, \"name\":\"Apple\", \"price\":5000})\n"
   ]
  },
  {
   "cell_type": "code",
   "execution_count": null,
   "metadata": {},
   "outputs": [
    {
     "name": "stdout",
     "output_type": "stream",
     "text": [
      "200\n",
      "{'message': 'Item with ID 3 has been deleted successfully.'}\n"
     ]
    }
   ],
   "source": [
    "url = \"http://localhost:8000/items/3\"\n",
    "\n",
    "response = requests.delete(url)\n",
    "print(response.status_code)\n",
    "print(response.json())"
   ]
  }
 ],
 "metadata": {
  "kernelspec": {
   "display_name": "base",
   "language": "python",
   "name": "python3"
  },
  "language_info": {
   "codemirror_mode": {
    "name": "ipython",
    "version": 3
   },
   "file_extension": ".py",
   "mimetype": "text/x-python",
   "name": "python",
   "nbconvert_exporter": "python",
   "pygments_lexer": "ipython3",
   "version": "3.9.19"
  }
 },
 "nbformat": 4,
 "nbformat_minor": 2
}
