{
 "cells": [
  {
   "cell_type": "code",
   "execution_count": null,
   "metadata": {},
   "outputs": [],
   "source": [
    "class Magazine(book):\n",
    "    def __init__(self, title, author, bookColor, pages, size, issue):\n",
    "        super().__init__(title, author, bookColor, pages, size, issue)\n",
    "        self.issue = issue\n",
    "    def readMagazine(self)"
   ]
  }
 ],
 "metadata": {
  "language_info": {
   "name": "python"
  }
 },
 "nbformat": 4,
 "nbformat_minor": 2
}
