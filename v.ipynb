{
 "cells": [
  {
   "cell_type": "code",
   "execution_count": 9,
   "metadata": {},
   "outputs": [],
   "source": [
    "import psycopg2\n",
    "import psycopg2.sql as sql\n",
    "\n",
    "# setup config postgres connection \n",
    "# Replace these parameters with your actual database credentials\n",
    "db_user = \"postgres\"\n",
    "db_password = \"postgres\" #Use your own password\n",
    "db_host = \"localhost\"  # Usually \"localhost\" if running locally\n",
    "db_port = \"5432\"  # Default is 5432\n",
    "\n",
    "connection = psycopg2.connect(\n",
    "    user=db_user,\n",
    "    password=db_password,\n",
    "    host=db_host,\n",
    "    port=db_port\n",
    ")\n",
    "\n",
    "cursor1 = connection.cursor()\n",
    "\n",
    "connection.autocommit = True\n",
    "\n",
    "q = sql.SQL('CREATE DATABASE \"db-psyco\";')\n",
    "cursor1.execute(q)\n",
    "cursor1.close()\n",
    "connection.close()\n",
    "\n",
    "\n",
    "connection = psycopg2.connect(\n",
    "    user=db_user,\n",
    "    password=db_password,\n",
    "    host=db_host,\n",
    "    port=db_port,\n",
    "    database=\"db-psyco\"\n",
    ")\n",
    "\n",
    "cursor2 = connection.cursor()\n",
    "\n",
    "connection.autocommit = True\n",
    "\n",
    "q = sql.SQL('''CREATE TABLE \"tbl_students\" (\n",
    "            id serial primary key,\n",
    "            name varchar);\n",
    "        ''')\n",
    "cursor2.execute(q)\n",
    "cursor2.close()\n",
    "connection.close()\n"
   ]
  }
 ],
 "metadata": {
  "kernelspec": {
   "display_name": "base",
   "language": "python",
   "name": "python3"
  },
  "language_info": {
   "codemirror_mode": {
    "name": "ipython",
    "version": 3
   },
   "file_extension": ".py",
   "mimetype": "text/x-python",
   "name": "python",
   "nbconvert_exporter": "python",
   "pygments_lexer": "ipython3",
   "version": "3.9.19"
  }
 },
 "nbformat": 4,
 "nbformat_minor": 2
}
