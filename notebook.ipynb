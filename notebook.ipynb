{
 "cells": [
  {
   "cell_type": "code",
   "execution_count": 1,
   "metadata": {},
   "outputs": [],
   "source": [
    "customer_id = ['B818', 'A461', 'A092', 'A082', 'B341', 'A005', 'A092', 'A461','B219', 'B904', 'A901', 'A083', 'B904', 'A092', 'B341', 'B821','B341', 'B821', 'B904', 'B818', 'A901', 'A083', 'B818', 'A082','B219', 'B219', 'A083', 'A901', 'A082', 'B341', 'B341', 'A083','A082', 'B219', 'B439', 'A461', 'A005', 'A901', 'B341', 'A082','A083', 'A461', 'A083', 'A901', 'A461', 'A083', 'A082', 'A083','B341', 'A901', 'A082', 'A461', 'B219', 'A083', 'B818', 'B821','A092', 'B341', 'A461', 'A092', 'A083', 'B821', 'A092']"
   ]
  },
  {
   "cell_type": "code",
   "execution_count": 3,
   "metadata": {},
   "outputs": [],
   "source": [
    "unique_costumer_id = set(customer_id)"
   ]
  },
  {
   "cell_type": "code",
   "execution_count": 8,
   "metadata": {},
   "outputs": [
    {
     "data": {
      "text/plain": [
       "{'A005',\n",
       " 'A082',\n",
       " 'A083',\n",
       " 'A092',\n",
       " 'A461',\n",
       " 'A901',\n",
       " 'B219',\n",
       " 'B341',\n",
       " 'B439',\n",
       " 'B818',\n",
       " 'B821',\n",
       " 'B904'}"
      ]
     },
     "execution_count": 8,
     "metadata": {},
     "output_type": "execute_result"
    }
   ],
   "source": [
    "unique_costumer_id"
   ]
  },
  {
   "cell_type": "code",
   "execution_count": 10,
   "metadata": {},
   "outputs": [
    {
     "data": {
      "text/plain": [
       "12"
      ]
     },
     "execution_count": 10,
     "metadata": {},
     "output_type": "execute_result"
    }
   ],
   "source": [
    "len(unique_costumer_id)"
   ]
  },
  {
   "cell_type": "code",
   "execution_count": 4,
   "metadata": {},
   "outputs": [
    {
     "name": "stdout",
     "output_type": "stream",
     "text": [
      "16\n",
      "[36, 49, 64, 81]\n",
      "[100, 81, 64, 49, 36, 25, 16, 9, 4, 1]\n"
     ]
    }
   ],
   "source": [
    "Data = [1, 4, 9, 16, 25, 36, 49,  64, 81, 100]\n",
    "print(Data[3])\n",
    "print(Data[5:-1])\n",
    "print(Data[::-1])"
   ]
  },
  {
   "cell_type": "code",
   "execution_count": 5,
   "metadata": {},
   "outputs": [
    {
     "data": {
      "text/plain": [
       "dict_keys(['Nanggroe Aceh Darussalam', 'Sumatera Selatan', 'Kalimantan Barat', 'Jawa Timur', 'Sulawesi Selatan', 'Maluku'])"
      ]
     },
     "execution_count": 5,
     "metadata": {},
     "output_type": "execute_result"
    }
   ],
   "source": [
    "provinsi = {'Nanggroe Aceh Darussalam': 'Aceh','Sumatera Selatan': 'Palembang','Kalimantan Barat': 'Pontianak','Jawa Timur': 'Madiun','Sulawesi Selatan': 'Makassar','Maluku': 'Ambon'}\n",
    "provinsi.keys()\n"
   ]
  },
  {
   "cell_type": "code",
   "execution_count": 6,
   "metadata": {},
   "outputs": [
    {
     "data": {
      "text/plain": [
       "['Nanggroe Aceh Darussalam',\n",
       " 'Sumatera Selatan',\n",
       " 'Kalimantan Barat',\n",
       " 'Jawa Timur',\n",
       " 'Sulawesi Selatan',\n",
       " 'Maluku']"
      ]
     },
     "execution_count": 6,
     "metadata": {},
     "output_type": "execute_result"
    }
   ],
   "source": [
    "list(provinsi.keys())"
   ]
  },
  {
   "cell_type": "code",
   "execution_count": 11,
   "metadata": {},
   "outputs": [],
   "source": [
    "provinsi['Jawa Timur'] = 'surabaya'"
   ]
  },
  {
   "cell_type": "code",
   "execution_count": 12,
   "metadata": {},
   "outputs": [
    {
     "data": {
      "text/plain": [
       "{'Nanggroe Aceh Darussalam': 'Aceh',\n",
       " 'Sumatera Selatan': 'Palembang',\n",
       " 'Kalimantan Barat': 'Pontianak',\n",
       " 'Jawa Timur': 'surabaya',\n",
       " 'Sulawesi Selatan': 'Makassar',\n",
       " 'Maluku': 'Ambon'}"
      ]
     },
     "execution_count": 12,
     "metadata": {},
     "output_type": "execute_result"
    }
   ],
   "source": [
    "provinsi"
   ]
  },
  {
   "cell_type": "code",
   "execution_count": 14,
   "metadata": {},
   "outputs": [
    {
     "name": "stdout",
     "output_type": "stream",
     "text": [
      "Cuaca lagi panas nih, pastikan minum air yang cukup ya >.<\n"
     ]
    }
   ],
   "source": [
    "suhu = float(input(\"Masukkan suhu: \"))\n",
    "# kondisi untuk mengecek suhu\n",
    "if suhu > 30: # kondisi harus benar, baru print dieksekusi\n",
    "    print(\"Cuaca lagi panas nih, pastikan minum air yang cukup ya >.<\")"
   ]
  },
  {
   "cell_type": "code",
   "execution_count": 9,
   "metadata": {},
   "outputs": [
    {
     "name": "stdout",
     "output_type": "stream",
     "text": [
      "Selesai.\n"
     ]
    }
   ],
   "source": [
    "cuaca_hari_ini = ['cerah', 'panas', 'lembab']\n",
    "\n",
    "if 'mendung' in cuaca_hari_ini: #jika bernilai false\n",
    "    # dieksekusi hanya jika kondisi terpenuhi true\n",
    "    print('Lihat kembali cuaca hari ini.')\n",
    "    print('Hindari banyak aktivitas luar ruangan yang tidak perlu ya.')\n",
    "    print('Jaga kesehatan selalu >.<')\n",
    "\n",
    "# akan selalu dieksekusi\n",
    "print('Selesai.')"
   ]
  },
  {
   "cell_type": "code",
   "execution_count": 12,
   "metadata": {},
   "outputs": [],
   "source": [
    "suhu = float(input(\"masukan suhu: \"))\n",
    "if suhu > 30:\n",
    "   print(\"panas\")    "
   ]
  },
  {
   "cell_type": "code",
   "execution_count": 13,
   "metadata": {},
   "outputs": [
    {
     "name": "stdout",
     "output_type": "stream",
     "text": [
      "panas dan lembab! lebih baik tetap di dalam ruangan,\n"
     ]
    }
   ],
   "source": [
    "suhu = 35\n",
    "kelembaban = 75\n",
    "if suhu > 30 and kelembaban > 70:\n",
    "    print(\"panas dan lembab! lebih baik tetap di dalam ruangan,\")"
   ]
  },
  {
   "cell_type": "code",
   "execution_count": 4,
   "metadata": {},
   "outputs": [
    {
     "name": "stdout",
     "output_type": "stream",
     "text": [
      "panas! minum air yang cukup.\n"
     ]
    }
   ],
   "source": [
    "suhu = int(input('masukan suhu'))\n",
    "if suhu < 20: #true\n",
    "    print(\"dingin pakai jaket ya\")\n",
    "elif 20 <= suhu <= 30:\n",
    "    print(\"cuaca oke nih.\")    \n",
    "else:\n",
    "    print(\"panas! minum air yang cukup.\")"
   ]
  },
  {
   "cell_type": "code",
   "execution_count": 14,
   "metadata": {},
   "outputs": [
    {
     "name": "stdout",
     "output_type": "stream",
     "text": [
      "Terima kasih telah menggunakan aplikasi kami!\n"
     ]
    }
   ],
   "source": [
    "cuaca_hari_ini = ['cerah', 'panas', 'lembab']\n",
    "\n",
    "if 'cerah' in cuaca_hari_ini:\n",
    "    pass\n",
    "\n",
    "print('Terima kasih telah menggunakan aplikasi kami!')"
   ]
  },
  {
   "cell_type": "code",
   "execution_count": 16,
   "metadata": {},
   "outputs": [
    {
     "name": "stdout",
     "output_type": "stream",
     "text": [
      "hujan di siang hari! bawa payung dan pakai jaket\n"
     ]
    }
   ],
   "source": [
    "cuaca = \"hujan\"\n",
    "waktu = input(\"Tentukan malam/siang: \")\n",
    "\n",
    "if cuaca == \"hujan\":\n",
    "    if waktu == \"siang\":\n",
    "        print(\"hujan di siang hari! bawa payung dan pakai jaket\")\n",
    "    elif waktu == \"malam\":\n",
    "         print(\"Hujan di malam hari! Pakai jaket dan sepatu bot\")"
   ]
  },
  {
   "cell_type": "code",
   "execution_count": 17,
   "metadata": {},
   "outputs": [
    {
     "name": "stdout",
     "output_type": "stream",
     "text": [
      "Cuaca panas, minum air yang cukup!\n"
     ]
    }
   ],
   "source": [
    "suhu = 35\n",
    "pesan = \"Cuaca panas, minum air yang cukup!\" if suhu > 30 else \"Cuaca sedang baik\"\n",
    "print(pesan)"
   ]
  },
  {
   "cell_type": "code",
   "execution_count": 8,
   "metadata": {},
   "outputs": [
    {
     "name": "stdout",
     "output_type": "stream",
     "text": [
      "5\n",
      "6\n",
      "7\n",
      "8\n",
      "9\n",
      "10\n",
      "11\n",
      "12\n"
     ]
    }
   ],
   "source": [
    "i = 5\n",
    "while i<=12:\n",
    "    print(i)\n",
    "    i += 1"
   ]
  },
  {
   "cell_type": "code",
   "execution_count": 9,
   "metadata": {},
   "outputs": [
    {
     "name": "stdout",
     "output_type": "stream",
     "text": [
      "6\n",
      "7\n",
      "8\n",
      "9\n",
      "10\n",
      "11\n",
      "12\n",
      "13\n"
     ]
    }
   ],
   "source": [
    "i = 5\n",
    "while i<=12:\n",
    "    i += 1\n",
    "    print(i)\n",
    "    "
   ]
  },
  {
   "cell_type": "code",
   "execution_count": 10,
   "metadata": {},
   "outputs": [
    {
     "name": "stdout",
     "output_type": "stream",
     "text": [
      "10\n",
      "9\n",
      "8\n",
      "7\n",
      "6\n"
     ]
    }
   ],
   "source": [
    "i = 10\n",
    "while i > 0:\n",
    "    if i == 5:\n",
    "        break\n",
    "    print(i)\n",
    "    i -= 1"
   ]
  },
  {
   "cell_type": "code",
   "execution_count": 30,
   "metadata": {},
   "outputs": [
    {
     "name": "stdout",
     "output_type": "stream",
     "text": [
      "9\n",
      "8\n",
      "7\n",
      "6\n",
      "4\n",
      "3\n",
      "2\n",
      "1\n",
      "0\n"
     ]
    }
   ],
   "source": [
    "i = 10\n",
    "while i > 0:\n",
    "    i -= 1   \n",
    "    if i == 5:\n",
    "        continue\n",
    "    print(i)    "
   ]
  },
  {
   "cell_type": "code",
   "execution_count": 31,
   "metadata": {},
   "outputs": [
    {
     "name": "stdout",
     "output_type": "stream",
     "text": [
      "10\n",
      "9\n",
      "8\n",
      "7\n",
      "6\n",
      "5\n",
      "4\n",
      "3\n",
      "2\n",
      "1\n",
      "menghitung mundur selesai\n"
     ]
    }
   ],
   "source": [
    "i = 10\n",
    "while i > 0:\n",
    "    print(i)\n",
    "    i -= 1\n",
    "else:\n",
    "    print(\"menghitung mundur selesai\")"
   ]
  },
  {
   "cell_type": "code",
   "execution_count": 32,
   "metadata": {},
   "outputs": [
    {
     "name": "stdout",
     "output_type": "stream",
     "text": [
      "1 * 1 = 1\n",
      "1 * 2 = 2\n",
      "1 * 3 = 3\n",
      "1 * 4 = 4\n",
      "1 * 5 = 5\n",
      "2 * 1 = 2\n",
      "2 * 2 = 4\n",
      "2 * 3 = 6\n",
      "2 * 4 = 8\n",
      "2 * 5 = 10\n",
      "3 * 1 = 3\n",
      "3 * 2 = 6\n",
      "3 * 3 = 9\n",
      "3 * 4 = 12\n",
      "3 * 5 = 15\n"
     ]
    }
   ],
   "source": [
    "i = 1\n",
    "while i <= 3:\n",
    "    j = 1\n",
    "    while j <= 5:\n",
    "        print(f\"{i} * {j} = {i*j}\")\n",
    "        j += 1\n",
    "    i += 1"
   ]
  },
  {
   "cell_type": "code",
   "execution_count": 33,
   "metadata": {},
   "outputs": [
    {
     "name": "stdout",
     "output_type": "stream",
     "text": [
      "1\n",
      "2\n",
      "3\n",
      "4\n",
      "5\n"
     ]
    }
   ],
   "source": [
    "angka = [1, 2, 3, 4, 5]\n",
    "for i in angka:\n",
    "    print(i)"
   ]
  },
  {
   "cell_type": "code",
   "execution_count": 38,
   "metadata": {},
   "outputs": [
    {
     "name": "stdout",
     "output_type": "stream",
     "text": [
      "1\n",
      "2\n",
      "3\n",
      "4\n",
      "5\n",
      "6\n",
      "7\n",
      "8\n",
      "9\n"
     ]
    }
   ],
   "source": [
    "for i in range(1, 10):\n",
    "    print(i)"
   ]
  },
  {
   "cell_type": "code",
   "execution_count": 40,
   "metadata": {},
   "outputs": [
    {
     "name": "stdout",
     "output_type": "stream",
     "text": [
      "1\n",
      "2\n",
      "3\n",
      "4\n"
     ]
    }
   ],
   "source": [
    "for i in range(1, 11):\n",
    "    if i == 5:\n",
    "        break\n",
    "    print (i)"
   ]
  },
  {
   "cell_type": "code",
   "execution_count": 41,
   "metadata": {},
   "outputs": [
    {
     "name": "stdout",
     "output_type": "stream",
     "text": [
      "1\n",
      "2\n",
      "3\n",
      "4\n",
      "6\n",
      "7\n",
      "8\n",
      "9\n",
      "10\n"
     ]
    }
   ],
   "source": [
    "for i in range(1, 11):\n",
    "    if i == 5:\n",
    "        continue\n",
    "    print(i)"
   ]
  },
  {
   "cell_type": "code",
   "execution_count": 19,
   "metadata": {},
   "outputs": [
    {
     "name": "stdout",
     "output_type": "stream",
     "text": [
      "1 adalah ganjil\n",
      "2 adalah genap\n",
      "3 adalah ganjil\n",
      "4 adalah genap\n",
      "5 adalah ganjil\n",
      "6 adalah genap\n",
      "7 adalah ganjil\n",
      "8 adalah genap\n",
      "9 adalah ganjil\n",
      "10 adalah genap\n"
     ]
    }
   ],
   "source": [
    "for i in range(1, 11):\n",
    "    jenis = \"ganjil\" if i % 2 != 0 else \"genap\"\n",
    "    print(f\"{i} adalah {jenis}\")"
   ]
  },
  {
   "cell_type": "code",
   "execution_count": 43,
   "metadata": {},
   "outputs": [
    {
     "name": "stdout",
     "output_type": "stream",
     "text": [
      "[32.0, 50.0, 68.0, 86.0, 104.0]\n"
     ]
    }
   ],
   "source": [
    "suhu_celcius = [0, 10, 20, 30, 40]\n",
    "suhu_fahrenheit = [(9/5)*suhu + 32 for suhu in suhu_celcius]\n",
    "print(suhu_fahrenheit)"
   ]
  },
  {
   "cell_type": "code",
   "execution_count": 44,
   "metadata": {},
   "outputs": [
    {
     "name": "stdout",
     "output_type": "stream",
     "text": [
      "[86.0, 104.0]\n"
     ]
    }
   ],
   "source": [
    "suhu_celcius = [0, 10, 20, 30, 40]\n",
    "suhu_fahrenheit = [(9/5)*suhu + 32 for suhu in suhu_celcius if suhu > 20]\n",
    "print(suhu_fahrenheit)"
   ]
  },
  {
   "cell_type": "code",
   "execution_count": 20,
   "metadata": {},
   "outputs": [
    {
     "name": "stdout",
     "output_type": "stream",
     "text": [
      "Suhu di bawah 20.\n",
      "Suhu di bawah 20.\n",
      "Suhu di bawah 20.\n",
      "86.0\n",
      "104.0\n"
     ]
    }
   ],
   "source": [
    "suhu_celsius = [0, 10, 20, 30, 40]\n",
    "for suhu in suhu_celsius:\n",
    "    suhu_fahrenheit = (9/5)*suhu + 32 \n",
    "    print(suhu_fahrenheit) if suhu > 20 else print('Suhu di bawah 20.')"
   ]
  },
  {
   "cell_type": "code",
   "execution_count": 21,
   "metadata": {},
   "outputs": [
    {
     "name": "stdout",
     "output_type": "stream",
     "text": [
      "Buah ke-1 adalah apel\n",
      "Buah ke-2 adalah pisang\n",
      "Buah ke-3 adalah jeruk\n",
      "Buah ke-4 adalah mangga\n"
     ]
    }
   ],
   "source": [
    "daftar_belanja = ['apel', 'pisang', 'jeruk', 'mangga']\n",
    "\n",
    "for i, buah in enumerate(daftar_belanja):\n",
    "    print(f\"Buah ke-{i+1} adalah {buah}\")"
   ]
  },
  {
   "cell_type": "code",
   "execution_count": 7,
   "metadata": {},
   "outputs": [
    {
     "name": "stdout",
     "output_type": "stream",
     "text": [
      "1\n",
      "22\n",
      "333\n",
      "4444\n",
      "55555\n",
      "666666\n",
      "7777777\n",
      "88888888\n",
      "999999999\n",
      "10101010101010101010\n",
      "1111111111111111111111\n",
      "121212121212121212121212\n",
      "13131313131313131313131313\n",
      "1414141414141414141414141414\n",
      "151515151515151515151515151515\n",
      "16161616161616161616161616161616\n",
      "1717171717171717171717171717171717\n",
      "181818181818181818181818181818181818\n",
      "19191919191919191919191919191919191919\n"
     ]
    }
   ],
   "source": [
    "for i in range(1, 20):\n",
    "    for j in range(i):\n",
    "        print(i, end=\"\")\n",
    "    print() \n"
   ]
  },
  {
   "cell_type": "code",
   "execution_count": null,
   "metadata": {},
   "outputs": [],
   "source": []
  },
  {
   "cell_type": "code",
   "execution_count": 5,
   "metadata": {},
   "outputs": [
    {
     "name": "stdout",
     "output_type": "stream",
     "text": [
      "Not a Valid Password\n"
     ]
    }
   ],
   "source": [
    "import re\n",
    "p = input(\"input your password\")\n",
    "x = True\n",
    "while x:\n",
    "    if (len(p) < 6 or len (p) > 12):\n",
    "        break\n",
    "    elif not re.search(\"[a-z]\", p):\n",
    "        break\n",
    "    elif not re.search(\"[0-9]\", p):\n",
    "        break\n",
    "    elif not re.search(\"[A-Z]\", p):\n",
    "        break\n",
    "    elif not re.search(\"[$#@]\",p):\n",
    "        break\n",
    "    elif re.search(\"\\s\", p):\n",
    "        break\n",
    "    else:\n",
    "        print(\"Valid Password\")\n",
    "        x = False\n",
    "        break\n",
    "if x:\n",
    "    print(\"Not a Valid Password\")\n",
    "\n",
    "\n"
   ]
  },
  {
   "cell_type": "code",
   "execution_count": 1,
   "metadata": {},
   "outputs": [
    {
     "name": "stdout",
     "output_type": "stream",
     "text": [
      "Password must be between 6 and 16 characters.\n",
      "Password is valid.\n"
     ]
    }
   ],
   "source": [
    "valid = False\n",
    "\n",
    "while not valid:\n",
    "    password = input(\"Enter a password: \")\n",
    "\n",
    "    if len(password) < 6 or len(password) > 16:\n",
    "        print(\"Password must be between 6 and 16 characters.\")\n",
    "    elif not any(c.islower() for c in password):\n",
    "        print(\"Password must contain at least one lowercase letter.\")\n",
    "    elif not any(c.isupper() for c in password):\n",
    "        print(\"Password must contain at least one uppercase letter.\")\n",
    "    elif not any(c.isdigit() for c in password):\n",
    "        print(\"Password must contain at least one digit.\")\n",
    "    elif not any(c in ['$','#','@'] for c in password):\n",
    "        print(\"Password must contain at least one of the characters $, #, or @.\")\n",
    "    else:\n",
    "        valid = True\n",
    "        print(\"Password is valid.\")"
   ]
  },
  {
   "cell_type": "code",
   "execution_count": 3,
   "metadata": {},
   "outputs": [
    {
     "name": "stdout",
     "output_type": "stream",
     "text": [
      "Kata sandi valid\n"
     ]
    }
   ],
   "source": [
    "password = input('enter password:')\n",
    "\n",
    "huruf_kecil = False\n",
    "huruf_besar = False\n",
    "angka = False\n",
    "karakter_khusus = False\n",
    "panjang = False\n",
    "\n",
    "for char in password:\n",
    "    if char.islower():\n",
    "        huruf_kecil = True\n",
    "    elif char.isupper():\n",
    "        huruf_besar = True\n",
    "    elif char.isdigit():\n",
    "        angka = True\n",
    "    elif char in \"$#@\":\n",
    "        karakter_khusus = True\n",
    "\n",
    "if 6 <= len(password) <= 16:\n",
    "    panjang = True\n",
    "\n",
    "if huruf_kecil and huruf_besar and angka and karakter_khusus and panjang:\n",
    "    print(\"Kata sandi valid\")\n",
    "else:\n",
    "    print(\"Kata sandi tidak valid\")\n"
   ]
  },
  {
   "cell_type": "code",
   "execution_count": 6,
   "metadata": {},
   "outputs": [
    {
     "name": "stdout",
     "output_type": "stream",
     "text": [
      "300\n",
      "None\n"
     ]
    }
   ],
   "source": [
    "def tambah(a,b):\n",
    "    print(a+b)\n",
    "hasil = tambah(100,200)\n",
    "print(hasil)"
   ]
  },
  {
   "cell_type": "code",
   "execution_count": 7,
   "metadata": {},
   "outputs": [
    {
     "name": "stdout",
     "output_type": "stream",
     "text": [
      "300\n"
     ]
    }
   ],
   "source": [
    "def tambah(a,b):\n",
    "    return a+b\n",
    "hasil = tambah(100,200)\n",
    "print(hasil)"
   ]
  },
  {
   "cell_type": "code",
   "execution_count": 26,
   "metadata": {},
   "outputs": [
    {
     "name": "stdout",
     "output_type": "stream",
     "text": [
      "Penjumlahan a dan b\n",
      "300\n"
     ]
    }
   ],
   "source": [
    "# variabel lokal dan global\n",
    "def tambah(a,b):\n",
    "    pesan = 'Penjumlahan a dan b' # lokal\n",
    "    print(pesan)\n",
    "    return a+b\n",
    "\n",
    "# print(pesan) #akan error\n",
    "hasil = tambah(100,200) #global\n",
    "print(hasil) "
   ]
  },
  {
   "cell_type": "code",
   "execution_count": 28,
   "metadata": {},
   "outputs": [
    {
     "name": "stdout",
     "output_type": "stream",
     "text": [
      "halo,Budi! selamat pagi!\n"
     ]
    }
   ],
   "source": [
    "def salam(nama, pesan):\n",
    "    print(f\"halo,{nama}! {pesan}\")\n",
    "\n",
    "salam(\"Budi\", \"selamat pagi!\")"
   ]
  },
  {
   "cell_type": "code",
   "execution_count": 30,
   "metadata": {},
   "outputs": [
    {
     "name": "stdout",
     "output_type": "stream",
     "text": [
      "Halo, Vincent! Selamat datang di HactivMaret!\n"
     ]
    }
   ],
   "source": [
    "# default\n",
    "def salam(nama=\"Vincent\", pesan=\"Selamat datang di HactivMaret!\"):\n",
    "    print(f\"Halo, {nama}! {pesan}\")\n",
    "\n",
    "# salam(\"Budi\", \"Sahuur~ Sahuur!\")\n",
    "salam()\n",
    "# salam()"
   ]
  },
  {
   "cell_type": "code",
   "execution_count": 31,
   "metadata": {},
   "outputs": [
    {
     "name": "stdout",
     "output_type": "stream",
     "text": [
      "My name is John, my age is 25.I'm from Jakarta.\n"
     ]
    }
   ],
   "source": [
    "def perkenalan(name, age, city):\n",
    "    return \"My name is \" + name + \", my age is \" + age + \".I'm from \" + city + \".\"\n",
    "\n",
    "print(perkenalan(\"John\", \"25\", \"Jakarta\"))\n",
    "# print(perkenalan(\"John\", \"Jakarta\", \"25\")) # wrong"
   ]
  },
  {
   "cell_type": "code",
   "execution_count": 32,
   "metadata": {},
   "outputs": [
    {
     "name": "stdout",
     "output_type": "stream",
     "text": [
      "No berumur 20 tahun.\n",
      "20 berumur No tahun.\n"
     ]
    }
   ],
   "source": [
    "# positional\n",
    "def deskripsi(nama, umur):\n",
    "    print(f\"{nama} berumur {umur} tahun.\")\n",
    "\n",
    "deskripsi(\"No\", 20)\n",
    "deskripsi(20, \"No\")"
   ]
  },
  {
   "cell_type": "code",
   "execution_count": 33,
   "metadata": {},
   "outputs": [
    {
     "name": "stdout",
     "output_type": "stream",
     "text": [
      "Budi berumur 20 tahun.\n",
      "Budi berumur 20 tahun.\n"
     ]
    }
   ],
   "source": [
    "# keyword\n",
    "def deskripsi(nama, umur):\n",
    "    print(f\"{nama} berumur {umur} tahun.\")\n",
    "\n",
    "deskripsi(nama=\"Budi\", umur=20)\n",
    "deskripsi(umur=20, nama=\"Budi\")"
   ]
  },
  {
   "cell_type": "code",
   "execution_count": 34,
   "metadata": {},
   "outputs": [
    {
     "name": "stdout",
     "output_type": "stream",
     "text": [
      "Aktivitas belanja Tasya:\n",
      "Menambahkan apel ke keranjang belanja.\n",
      "Menambahkan pisang ke keranjang belanja.\n",
      "Menambahkan jeruk ke keranjang belanja.\n"
     ]
    }
   ],
   "source": [
    "def belanja(custName, *barang):\n",
    "    print(f\"Aktivitas belanja {custName}:\")\n",
    "    for b in barang:\n",
    "        print(f\"Menambahkan {b} ke keranjang belanja.\")\n",
    "\n",
    "belanja(\"Tasya\", \"apel\", \"pisang\", \"jeruk\")"
   ]
  },
  {
   "cell_type": "code",
   "execution_count": 35,
   "metadata": {},
   "outputs": [
    {
     "name": "stdout",
     "output_type": "stream",
     "text": [
      "Aktiviitas belanja Tasya:\n",
      "menambahkan apel ke keranjang.\n",
      "menambahkan pisang ke keranjang.\n",
      "menambahkan jeruk ke keranjang.\n"
     ]
    }
   ],
   "source": [
    "def belanja(custName, *barang):\n",
    "    print(f\"Aktiviitas belanja {custName}:\")\n",
    "    for b in barang:\n",
    "        print(f\"menambahkan {b} ke keranjang.\")\n",
    "\n",
    "belanja(\"Tasya\", \"apel\", \"pisang\", \"jeruk\")"
   ]
  },
  {
   "cell_type": "code",
   "execution_count": 36,
   "metadata": {},
   "outputs": [
    {
     "data": {
      "text/plain": [
       "{'Nama': 'Budi', 'Umur': 20, 'Kota': 'Jakarta'}"
      ]
     },
     "execution_count": 36,
     "metadata": {},
     "output_type": "execute_result"
    }
   ],
   "source": [
    "def getUser(**kwargs):\n",
    "    return kwargs\n",
    "\n",
    "getUser(Nama=\"Budi\", Umur=20, Kota=\"Jakarta\")"
   ]
  },
  {
   "cell_type": "code",
   "execution_count": 37,
   "metadata": {},
   "outputs": [
    {
     "data": {
      "text/plain": [
       "'Hello, my name is Budi. My age is 20. My Adress at Jakarta'"
      ]
     },
     "execution_count": 37,
     "metadata": {},
     "output_type": "execute_result"
    }
   ],
   "source": [
    "def getUser(**kwargs):\n",
    "    return \"Hello, my name is \" + kwargs[\"Nama\"] + \". My age is \" + kwargs[\"Umur\"] + \". My Adress at \" + kwargs[\"Kota\"]\n",
    "\n",
    "getUser(Nama=\"Budi\", Umur=\"20\", Kota=\"Jakarta\")"
   ]
  },
  {
   "cell_type": "code",
   "execution_count": 38,
   "metadata": {},
   "outputs": [
    {
     "name": "stdout",
     "output_type": "stream",
     "text": [
      "Nama: Budi\n",
      "Umur: 20\n",
      "Kota: Jakarta\n"
     ]
    }
   ],
   "source": [
    "def profil(**data):\n",
    "    for k, v in data.items():\n",
    "        print(f\"{k}: {v}\")\n",
    "\n",
    "profil(Nama=\"Budi\", Umur=20, Kota=\"Jakarta\")"
   ]
  },
  {
   "cell_type": "code",
   "execution_count": 39,
   "metadata": {},
   "outputs": [
    {
     "name": "stdout",
     "output_type": "stream",
     "text": [
      "Resep Pancake:\n",
      "Bahan-bahan:\n",
      "- tepung\n",
      "- susu\n",
      "- telur\n",
      "Langkah-langkah:\n",
      "1. Campur semua bahan\n",
      "2. Panaskan wajan dan tuang adonan\n",
      "3. Balik pancake ketika satu sisi sudah matang\n"
     ]
    }
   ],
   "source": [
    "def resep(nama, *bahan, **langkah):\n",
    "    print(f\"Resep {nama}:\")\n",
    "    print(\"Bahan-bahan:\")\n",
    "    for b in bahan:\n",
    "        print(\"-\", b)\n",
    "    print(\"Langkah-langkah:\")\n",
    "    for k in sorted(langkah):\n",
    "        print(f\"{k[-1]}. {langkah[k]}\")\n",
    "\n",
    "resep(\"Pancake\", \"tepung\", \"susu\", \"telur\", \n",
    "      langkah1=\"Campur semua bahan\", \n",
    "      langkah2=\"Panaskan wajan dan tuang adonan\", \n",
    "      langkah3=\"Balik pancake ketika satu sisi sudah matang\")"
   ]
  },
  {
   "cell_type": "code",
   "execution_count": 40,
   "metadata": {},
   "outputs": [
    {
     "name": "stdout",
     "output_type": "stream",
     "text": [
      "Halo, nama saya Budi, asal dari Jakarta. Umur saya 30 tahun.\n"
     ]
    }
   ],
   "source": [
    "def fungsi(**kwargs):\n",
    "    data = {}\n",
    "    for k, v in kwargs.items():\n",
    "        if k == 'umur':\n",
    "            data[k] = int(v)\n",
    "        else:\n",
    "            data[k] = str(v)\n",
    "    return f\"Halo, nama saya {data.get('nama', '...')}, asal dari {data.get('kota', '...')}. Umur saya {data.get('umur', '...')} tahun.\"\n",
    "\n",
    "menyapa = fungsi(nama=\"Budi\", kota=\"Jakarta\", umur=30)\n",
    "print(menyapa)"
   ]
  },
  {
   "cell_type": "code",
   "execution_count": 41,
   "metadata": {},
   "outputs": [
    {
     "data": {
      "text/plain": [
       "8"
      ]
     },
     "execution_count": 41,
     "metadata": {},
     "output_type": "execute_result"
    }
   ],
   "source": [
    "# tambah bukan nama function, anonymous function tidak memiliki nama, menggunakan keyword lambda\n",
    "calculator = lambda x, y: x + y \n",
    "\n",
    "calculator(5, 3)"
   ]
  },
  {
   "cell_type": "code",
   "execution_count": 42,
   "metadata": {},
   "outputs": [
    {
     "data": {
      "text/plain": [
       "[1, 4, 9, 16]"
      ]
     },
     "execution_count": 42,
     "metadata": {},
     "output_type": "execute_result"
    }
   ],
   "source": [
    "numbers = [1, 2, 3, 4]\n",
    "squared = map(lambda x: x ** 2, numbers)\n",
    "\n",
    "list(squared)"
   ]
  },
  {
   "cell_type": "code",
   "execution_count": 2,
   "metadata": {},
   "outputs": [
    {
     "name": "stdout",
     "output_type": "stream",
     "text": [
      "<__main__.Book object at 0x000001C18287C820>\n",
      "A5\n",
      "Buku udah dibuka!\n"
     ]
    }
   ],
   "source": [
    "class Book():\n",
    "    def __init__(self):\n",
    "        self.title = 'Harry Poter'\n",
    "        self.author = 'J.K. Rowling'\n",
    "        self.bookColor = 'Hijau'\n",
    "        self.pages = 500\n",
    "        self.size = 'A5'\n",
    "        \n",
    "    def openBook(self):\n",
    "        print(\"Buku udah dibuka!\")\n",
    "\n",
    "book = Book()\n",
    "\n",
    "print(book)\n",
    "\n",
    "print(book.size)\n",
    "\n",
    "book.openBook()"
   ]
  },
  {
   "cell_type": "code",
   "execution_count": null,
   "metadata": {},
   "outputs": [],
   "source": [
    "class Book():\n",
    "    def __init__(self, title, author, book color, pages, size):\n",
    "        self.title = title\n",
    "        self.author = author\n",
    "        self.bookColor = bookColor\n",
    "        self.pages = pages\n",
    "        self.size = size\n",
    "\n",
    "    def open_book(self):\n",
    "        print(\"opened{self.title} by {self.author}\")\n",
    "\n",
    "    def read_book(self):\n",
    "        print(\"opened{self.title} by {self.author}\")\n",
    "\n",
    "    def borrow_book(self):\n",
    "        print(\"opened{self.title} by {self.author}\")\n",
    "\n",
    "    "
   ]
  },
  {
   "cell_type": "code",
   "execution_count": 4,
   "metadata": {},
   "outputs": [
    {
     "data": {
      "text/plain": [
       "['Naruto oleh Mamashi Kishimoto',\n",
       " 'sebuah seniuntuk bersikap bodo amat oleh mark manson']"
      ]
     },
     "execution_count": 4,
     "metadata": {},
     "output_type": "execute_result"
    }
   ],
   "source": [
    "books = []\n",
    "\n",
    "book1 = \"Naruto oleh Mamashi Kishimoto\"\n",
    "book2 = \"sebuah seniuntuk bersikap bodo amat oleh mark manson\"\n",
    "\n",
    "books.append(book1)\n",
    "books.append(book2)\n",
    "\n",
    "books"
   ]
  },
  {
   "cell_type": "code",
   "execution_count": null,
   "metadata": {},
   "outputs": [],
   "source": [
    "class Libary():\n",
    "    def __init__(self):\n",
    "        self.books = []\n",
    "    \n",
    "    def addBook(self, book)\n",
    "        self.books.append(book)\n",
    "        print(f\"{book.title} oleh {book.author} telah ditambahkan ke perpustakaan\")\n",
    "    def listBooks(self):\n",
    "        for book in self books:\n",
    "            print(f\"{book.title} oleh {book.author}.\")\n",
    "\n",
    "book1 = book(\"naruto\", \"Mamashi Kishimoto\", )\n",
    "\n",
    "\n"
   ]
  },
  {
   "cell_type": "code",
   "execution_count": 1,
   "metadata": {},
   "outputs": [
    {
     "name": "stdout",
     "output_type": "stream",
     "text": [
      "0\n",
      "But I don't want ANY spam!\n",
      "Spam Spam Spam\n"
     ]
    }
   ],
   "source": [
    "spam_amount = 0\n",
    "print(spam_amount)\n",
    "\n",
    "spam_amount = spam_amount + 4\n",
    "if spam_amount > 0:\n",
    "    print(\"But I don't want ANY spam!\")\n",
    "\n",
    "viking_song = \"Spam Spam Spam\"\n",
    "print(viking_song)"
   ]
  }
 ],
 "metadata": {
  "kernelspec": {
   "display_name": "base",
   "language": "python",
   "name": "python3"
  },
  "language_info": {
   "codemirror_mode": {
    "name": "ipython",
    "version": 3
   },
   "file_extension": ".py",
   "mimetype": "text/x-python",
   "name": "python",
   "nbconvert_exporter": "python",
   "pygments_lexer": "ipython3",
   "version": "3.9.19"
  }
 },
 "nbformat": 4,
 "nbformat_minor": 2
}
